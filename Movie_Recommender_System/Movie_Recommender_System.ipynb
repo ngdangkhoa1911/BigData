{
  "nbformat": 4,
  "nbformat_minor": 0,
  "metadata": {
    "colab": {
      "name": "Movie_Recommender_System.ipynb",
      "provenance": [],
      "collapsed_sections": []
    },
    "kernelspec": {
      "name": "python3",
      "display_name": "Python 3"
    },
    "language_info": {
      "name": "python"
    }
  },
  "cells": [
    {
      "cell_type": "code",
      "metadata": {
        "colab": {
          "base_uri": "https://localhost:8080/"
        },
        "id": "wvDaMavQPVkI",
        "outputId": "cbf24823-100b-4390-8f93-595db533259c"
      },
      "source": [
        "import os\n",
        "import math\n",
        "import time\n",
        "!pip install pyspark\n",
        "from pyspark import SparkContext\n",
        "from pyspark.sql import SQLContext, Row, SparkSession\n",
        "from pyspark.mllib.recommendation import ALS"
      ],
      "execution_count": 1,
      "outputs": [
        {
          "output_type": "stream",
          "text": [
            "Requirement already satisfied: pyspark in /usr/local/lib/python3.7/dist-packages (3.1.1)\n",
            "Requirement already satisfied: py4j==0.10.9 in /usr/local/lib/python3.7/dist-packages (from pyspark) (0.10.9)\n"
          ],
          "name": "stdout"
        }
      ]
    },
    {
      "cell_type": "code",
      "metadata": {
        "id": "7PR7D60dQbaC"
      },
      "source": [
        "# Getting the SparkContext\n",
        "sc = SparkContext()\n",
        "# Initializing the SQLContext\n",
        "sqlContext = SQLContext(sc)\n",
        "# Initializing Spark Session\n",
        "spark = SparkSession \\\n",
        "    .builder \\\n",
        "    .appName(\"netflix-recommendation-system\") \\\n",
        "    .getOrCreate()"
      ],
      "execution_count": 2,
      "outputs": []
    },
    {
      "cell_type": "code",
      "metadata": {
        "id": "DHNJRbLqfvb4"
      },
      "source": [
        "seed = 5\n",
        "iterations = 10\n",
        "regularization_parameter = 0.1\n",
        "ranks = [4, 8, 12]\n",
        "errors = [0, 0, 0]\n",
        "err = 0\n",
        "tolerance = 0.02\n",
        "\n",
        "user_ratings = [\n",
        "    (0, 225, 4),\n",
        "    (0, 322, 3),\n",
        "    (0, 492, 4),\n",
        "    (0, 104, 5),\n",
        "    (0, 335, 3),\n",
        "    (0, 640, 2),\n",
        "    (0, 773, 3),\n",
        "    (0, 348, 3),\n",
        "    (0, 723, 2),\n",
        "    (0, 354, 4),\n",
        "    (0, 346, 4),\n",
        "    (0, 923, 4),\n",
        "    (0, 425, 3),\n",
        "]"
      ],
      "execution_count": 11,
      "outputs": []
    },
    {
      "cell_type": "code",
      "metadata": {
        "id": "OKmeM8aQbIVN",
        "colab": {
          "base_uri": "https://localhost:8080/"
        },
        "outputId": "1440d50e-605f-4d25-9867-f807f8a21fd0"
      },
      "source": [
        "# Creating the Dataframe for the small dataset using SQLContext\n",
        "small_file = os.path.join('ratings.csv')\n",
        "small_raw_data = sc.textFile(small_file)\n",
        "small_raw_data_header = small_raw_data.take(1)[0]\n",
        "small_raw_data_DF = sqlContext.read.csv(small_file, header=True, inferSchema=True)\n",
        "small_raw_data_DF.show(10)"
      ],
      "execution_count": 3,
      "outputs": [
        {
          "output_type": "stream",
          "text": [
            "+------+-------+------+----------+\n",
            "|userId|movieId|rating| timestamp|\n",
            "+------+-------+------+----------+\n",
            "|     1|     31|   2.5|1260759144|\n",
            "|     1|   1029|   3.0|1260759179|\n",
            "|     1|   1061|   3.0|1260759182|\n",
            "|     1|   1129|   2.0|1260759185|\n",
            "|     1|   1172|   4.0|1260759205|\n",
            "|     1|   1263|   2.0|1260759151|\n",
            "|     1|   1287|   2.0|1260759187|\n",
            "|     1|   1293|   2.0|1260759148|\n",
            "|     1|   1339|   3.5|1260759125|\n",
            "|     1|   1343|   2.0|1260759131|\n",
            "+------+-------+------+----------+\n",
            "only showing top 10 rows\n",
            "\n"
          ],
          "name": "stdout"
        }
      ]
    },
    {
      "cell_type": "code",
      "metadata": {
        "id": "c4OCyUssdXFx"
      },
      "source": [
        "# Creating dataframe for visualization in temp table 'D'\n",
        "data = sc.textFile(small_file)\n",
        "data = data.filter(lambda line: line != small_raw_data_header).map(lambda line: line.split(',')). \\\n",
        "    map(lambda x: Row(userId=int(x[0]), movieId=int(x[1]), rating=float(x[2]), timestamp=str(x[3])))\n",
        "dataDF = sqlContext.createDataFrame(data)\n",
        "dataDF.registerTempTable(\"D\")"
      ],
      "execution_count": 4,
      "outputs": []
    },
    {
      "cell_type": "code",
      "metadata": {
        "id": "GhxA2SHsdy3S"
      },
      "source": [
        "# Displaying the temp table \"D\"\n",
        "# print(spark.sql(\"Select * from D\").show())\n",
        "\n",
        "# Creating RDD using only userID, movieID, rating since we don't need timestamp\n",
        "small_data = small_raw_data \\\n",
        "    .filter(lambda line: line != small_raw_data_header) \\\n",
        "    .map(lambda line: line.split(\",\")) \\\n",
        "    .map(lambda tokens: (tokens[0], tokens[1], tokens[2])).cache()\n"
      ],
      "execution_count": 5,
      "outputs": []
    },
    {
      "cell_type": "code",
      "metadata": {
        "id": "zIQfCkPXd2pw"
      },
      "source": [
        "# Creating the small dataset Dataframe\n",
        "small_movies_file = os.path.join('movies.csv')\n",
        "small_movies_raw_data = sc.textFile(small_movies_file)\n",
        "small_movies_raw_data_header = small_movies_raw_data.take(1)[0]\n",
        "small_movies_raw_data = sc.textFile(small_movies_file)\n",
        "data = small_movies_raw_data.filter(lambda line: line != small_movies_raw_data_header).map(\n",
        "    lambda line: line.split(',')). \\\n",
        "    map(lambda x: Row(movieId=int(x[0]), title=(x[1]).encode('utf-8')))\n",
        "dataDF = sqlContext.createDataFrame(data)"
      ],
      "execution_count": 6,
      "outputs": []
    },
    {
      "cell_type": "code",
      "metadata": {
        "colab": {
          "base_uri": "https://localhost:8080/"
        },
        "id": "jQ3z13ZbehRR",
        "outputId": "da8ac28f-9273-470e-a088-cbd18bad1620"
      },
      "source": [
        "# Displaying the dataframe schema\n",
        "print(dataDF.select(\"movieId\", \"title\").show())\n"
      ],
      "execution_count": 7,
      "outputs": [
        {
          "output_type": "stream",
          "text": [
            "+-------+--------------------+\n",
            "|movieId|               title|\n",
            "+-------+--------------------+\n",
            "|      1|[54 6F 79 20 53 7...|\n",
            "|      2|[4A 75 6D 61 6E 6...|\n",
            "|      3|[47 72 75 6D 70 6...|\n",
            "|      4|[57 61 69 74 69 6...|\n",
            "|      5|[46 61 74 68 65 7...|\n",
            "|      6|[48 65 61 74 20 2...|\n",
            "|      7|[53 61 62 72 69 6...|\n",
            "|      8|[54 6F 6D 20 61 6...|\n",
            "|      9|[53 75 64 64 65 6...|\n",
            "|     10|[47 6F 6C 64 65 6...|\n",
            "|     11|[22 41 6D 65 72 6...|\n",
            "|     12|[44 72 61 63 75 6...|\n",
            "|     13|[42 61 6C 74 6F 2...|\n",
            "|     14|[4E 69 78 6F 6E 2...|\n",
            "|     15|[43 75 74 74 68 7...|\n",
            "|     16|[43 61 73 69 6E 6...|\n",
            "|     17|[53 65 6E 73 65 2...|\n",
            "|     18|[46 6F 75 72 20 5...|\n",
            "|     19|[41 63 65 20 56 6...|\n",
            "|     20|[4D 6F 6E 65 79 2...|\n",
            "+-------+--------------------+\n",
            "only showing top 20 rows\n",
            "\n",
            "None\n"
          ],
          "name": "stdout"
        }
      ]
    },
    {
      "cell_type": "code",
      "metadata": {
        "id": "VQixtUPIefDr"
      },
      "source": [
        "# Validation datasets\n",
        "training_RDD, validation_RDD, test_RDD = small_data.randomSplit([6, 2, 2], seed=0)\n",
        "validation_for_predict_RDD = validation_RDD.map(lambda x: (x[0], x[1]))\n",
        "test_for_predict_RDD = test_RDD.map(lambda x: (x[0], x[1]))\n"
      ],
      "execution_count": 8,
      "outputs": []
    },
    {
      "cell_type": "code",
      "metadata": {
        "id": "v2_Iy3Duav07",
        "colab": {
          "base_uri": "https://localhost:8080/"
        },
        "outputId": "2de25b9a-1899-410b-d525-1a8cca410807"
      },
      "source": [
        "# ALS algorithm training step\n",
        "min_error = float('inf')\n",
        "best_rank = -1\n",
        "best_iteration = -1\n",
        "for rank in ranks:\n",
        "    model = ALS.train(training_RDD, rank, seed=seed, iterations=iterations, lambda_=regularization_parameter)\n",
        "    predictions = model.predictAll(validation_for_predict_RDD).map(lambda r: ((r[0], r[1]), r[2]))\n",
        "    rates_and_predictions = validation_RDD.map(lambda r: ((int(r[0]), int(r[1])), float(r[2]))).join(predictions)\n",
        "    error = math.sqrt(rates_and_predictions.map(lambda r: (r[1][0] - r[1][1]) ** 2).mean())\n",
        "    errors[err] = error\n",
        "    err += 1\n",
        "    if error < min_error:\n",
        "        min_error = error\n",
        "        best_rank = rank\n",
        "print('The best model was trained with rank %s' % best_rank)"
      ],
      "execution_count": 12,
      "outputs": [
        {
          "output_type": "stream",
          "text": [
            "The best model was trained with rank 4\n"
          ],
          "name": "stdout"
        }
      ]
    },
    {
      "cell_type": "code",
      "metadata": {
        "id": "PE8RlyambGwW",
        "colab": {
          "base_uri": "https://localhost:8080/"
        },
        "outputId": "e256df70-7768-4c62-c5ba-e4c0301acd64"
      },
      "source": [
        "model = ALS.train(training_RDD, best_rank, seed=seed, iterations=iterations, lambda_=regularization_parameter)\n",
        "predictions = model.predictAll(test_for_predict_RDD) \\\n",
        "    .map(lambda r: ((r[0], r[1]), r[2]))\n",
        "rates_and_predictions = test_RDD \\\n",
        "    .map(lambda r: ((int(r[0]), int(r[1])), float(r[2]))) \\\n",
        "    .join(predictions)\n",
        "error = math.sqrt(rates_and_predictions.map(lambda r: (r[1][0] - r[1][1]) ** 2).mean())\n",
        "print('For testing data the RMSE is %s' % error)"
      ],
      "execution_count": 13,
      "outputs": [
        {
          "output_type": "stream",
          "text": [
            "For testing data the RMSE is 0.9380956550634307\n"
          ],
          "name": "stdout"
        }
      ]
    },
    {
      "cell_type": "code",
      "metadata": {
        "id": "XcCDXTaIcGyk"
      },
      "source": [
        "large_file = os.path.join('movies.csv')\n",
        "large_raw_data = sc.textFile(large_file)\n",
        "large_raw_data_header = large_raw_data.take(1)[0]"
      ],
      "execution_count": 14,
      "outputs": []
    },
    {
      "cell_type": "code",
      "metadata": {
        "id": "Z5im-bxFcL49",
        "colab": {
          "base_uri": "https://localhost:8080/"
        },
        "outputId": "89779afc-ae30-426f-d01a-8e4c58ca338a"
      },
      "source": [
        "large_data = large_raw_data \\\n",
        "    .filter(lambda line: line != large_raw_data_header) \\\n",
        "    .map(lambda line: line.split(\",\")) \\\n",
        "    .map(lambda tokens: (int(tokens[0]), tokens[1], tokens[2])).cache()\n",
        "large_titles = large_data.map(lambda x: (int(x[0]), x[1]))\n",
        "print(\"There are %s movies in the large dataset\" % (large_titles.count()))"
      ],
      "execution_count": 15,
      "outputs": [
        {
          "output_type": "stream",
          "text": [
            "There are 9125 movies in the large dataset\n"
          ],
          "name": "stdout"
        }
      ]
    },
    {
      "cell_type": "code",
      "metadata": {
        "id": "lpLRGhV1cQoe",
        "colab": {
          "base_uri": "https://localhost:8080/"
        },
        "outputId": "ad046a46-de2c-43a7-9888-f629e3342194"
      },
      "source": [
        "# Large dataset file parsing\n",
        "complete_file = os.path.join('ratings.csv')\n",
        "complete_raw_data = sc.textFile(complete_file)\n",
        "complete_raw_data_header = complete_raw_data.take(1)[0]\n",
        "complete_data = complete_raw_data \\\n",
        "    .filter(lambda line: line != complete_raw_data_header) \\\n",
        "    .map(lambda line: line.split(\",\")) \\\n",
        "    .map(lambda tokens: (int(tokens[0]), int(tokens[1]), float(tokens[2]))) \\\n",
        "    .cache()\n",
        "print('There are %s recommendations in the large dataset' % (complete_data.count()))"
      ],
      "execution_count": 18,
      "outputs": [
        {
          "output_type": "stream",
          "text": [
            "There are 100004 recommendations in the large dataset\n"
          ],
          "name": "stdout"
        }
      ]
    },
    {
      "cell_type": "code",
      "metadata": {
        "id": "Tfi6OMducXqM"
      },
      "source": [
        "# Counts and averages of the ratings\n",
        "def get_counts_and_averages(ID_and_ratings_tuple):\n",
        "    nratings = len(ID_and_ratings_tuple[1])\n",
        "    return ID_and_ratings_tuple[0], (nratings, float(sum(x for x in ID_and_ratings_tuple[1])) / nratings)\n"
      ],
      "execution_count": 19,
      "outputs": []
    },
    {
      "cell_type": "code",
      "metadata": {
        "id": "ELj6CF6jca18"
      },
      "source": [
        "# Mapping the ratings, avg_ratings and counts\n",
        "movie_ID_with_ratings_RDD = (complete_data.map(lambda x: (x[1], x[2])).groupByKey())\n",
        "movie_ID_with_avg_ratings_RDD = movie_ID_with_ratings_RDD.map(get_counts_and_averages)\n",
        "movie_rating_counts_RDD = movie_ID_with_avg_ratings_RDD.map(lambda x: (x[0], x[1][0]))"
      ],
      "execution_count": 20,
      "outputs": []
    },
    {
      "cell_type": "code",
      "metadata": {
        "id": "UPAy142HchoE",
        "colab": {
          "base_uri": "https://localhost:8080/"
        },
        "outputId": "9211cba7-d265-488d-e660-316d7bbb9e73"
      },
      "source": [
        "# New user id\n",
        "new_user_ID = 0\n",
        "\n",
        "# The format of each line is (userID, movieID, rating)\n",
        "new_user_ratings = user_ratings\n",
        "\n",
        "# parallelize the datasets\n",
        "new_user_ratings_RDD = sc.parallelize(new_user_ratings)\n",
        "print('New user ratings: %s' % new_user_ratings_RDD.take(10))"
      ],
      "execution_count": 21,
      "outputs": [
        {
          "output_type": "stream",
          "text": [
            "New user ratings: [(0, 225, 4), (0, 322, 3), (0, 492, 4), (0, 104, 5), (0, 335, 3), (0, 640, 2), (0, 773, 3), (0, 348, 3), (0, 723, 2), (0, 354, 4)]\n"
          ],
          "name": "stdout"
        }
      ]
    },
    {
      "cell_type": "code",
      "metadata": {
        "id": "bMb4akeRcnqX",
        "colab": {
          "base_uri": "https://localhost:8080/"
        },
        "outputId": "f3dfad92-bd0e-4acf-da56-86cf2b5701e0"
      },
      "source": [
        "# Join the small data ratings and new user ratings\n",
        "complete_data_with_new_ratings_RDD = small_data.union(new_user_ratings_RDD)\n",
        "\n",
        "# Time taken to train new model\n",
        "t0 = time.time()\n",
        "new_ratings_model = ALS.train(complete_data_with_new_ratings_RDD, best_rank, seed=seed, iterations=iterations, lambda_=regularization_parameter)\n",
        "tt = time.time() - t0\n",
        "print(\"New model trained in %s seconds\" % round(tt, 3))"
      ],
      "execution_count": 22,
      "outputs": [
        {
          "output_type": "stream",
          "text": [
            "New model trained in 4.891 seconds\n"
          ],
          "name": "stdout"
        }
      ]
    },
    {
      "cell_type": "code",
      "metadata": {
        "id": "3FNmypR5cqL3",
        "colab": {
          "base_uri": "https://localhost:8080/"
        },
        "outputId": "5dd82347-1c32-4e28-9a17-e2e50cf151da"
      },
      "source": [
        "# New user recommendation ratings\n",
        "new_user_ratings_ids = map(lambda x: x[1], new_user_ratings)\n",
        "new_user_unrated_movies_RDD = large_data \\\n",
        "    .filter(lambda x: x[0] not in new_user_ratings_ids) \\\n",
        "    .map(lambda x: (new_user_ID, x[0]))\n",
        "print(new_user_unrated_movies_RDD.count())"
      ],
      "execution_count": 23,
      "outputs": [
        {
          "output_type": "stream",
          "text": [
            "9125\n"
          ],
          "name": "stdout"
        }
      ]
    },
    {
      "cell_type": "code",
      "metadata": {
        "id": "Zro9OO7ac1KA",
        "colab": {
          "base_uri": "https://localhost:8080/"
        },
        "outputId": "c50679f5-32f2-4bf5-9702-397c3b27e5dc"
      },
      "source": [
        "# Predicting the new ratings\n",
        "recommendations_RDD = new_ratings_model.predictAll(new_user_unrated_movies_RDD)\n",
        "print(recommendations_RDD.take(5))"
      ],
      "execution_count": 24,
      "outputs": [
        {
          "output_type": "stream",
          "text": [
            "[Rating(user=0, product=1084, rating=3.1833908423799393), Rating(user=0, product=7942, rating=2.68375742232333), Rating(user=0, product=6400, rating=3.2677270046367823), Rating(user=0, product=3702, rating=3.4565404889363656), Rating(user=0, product=142192, rating=2.1915337432439177)]\n"
          ],
          "name": "stdout"
        }
      ]
    },
    {
      "cell_type": "code",
      "metadata": {
        "id": "CCgcOlUQc4Ke",
        "colab": {
          "base_uri": "https://localhost:8080/"
        },
        "outputId": "7fcfb965-ab7b-4d54-a15e-96abe23f26fe"
      },
      "source": [
        "# Transform recommendations_RDD into pairs of the form (Movie ID, Predicted Rating)\n",
        "recommendations_rating_RDD = recommendations_RDD.map(lambda x: (x.product, x.rating))\n",
        "recommendations_rating_title_and_count_RDD = \\\n",
        "    recommendations_rating_RDD.join(large_titles).join(movie_rating_counts_RDD)\n",
        "print(recommendations_rating_title_and_count_RDD.take(6))\n"
      ],
      "execution_count": 25,
      "outputs": [
        {
          "output_type": "stream",
          "text": [
            "[(81132, ((3.5688057523365764, 'Rubber (2010)'), 1)), (7020, ((2.5046098641511243, 'Proof (1991)'), 1)), (204, ((3.502963439279013, 'Under Siege 2: Dark Territory (1995)'), 31)), (4992, ((3.7327699640560983, 'Kate & Leopold (2001)'), 10)), (4224, ((2.826918121274484, 'Exit Wounds (2001)'), 2)), (1596, ((0.9763275803039493, 'Career Girls (1997)'), 3))]\n"
          ],
          "name": "stdout"
        }
      ]
    },
    {
      "cell_type": "code",
      "metadata": {
        "id": "f4Bui1Zzc_2N",
        "colab": {
          "base_uri": "https://localhost:8080/"
        },
        "outputId": "20c66e12-58a9-4398-9701-656329de405e"
      },
      "source": [
        "# Take and display the recommendations\n",
        "recommendations_rating_title_and_count_RDD = \\\n",
        "    recommendations_rating_title_and_count_RDD \\\n",
        "        .map(lambda r: (r[1][0][1], r[1][0][0], r[1][1]))\n",
        "top_movies = recommendations_rating_title_and_count_RDD \\\n",
        "    .filter(lambda r: r[2] >= 15) \\\n",
        "    .takeOrdered(15, key=lambda x: -x[1])\n",
        "\n",
        "print('Recommended movies for you:\\n%s' %\n",
        "      '\\n'.join(map(str, top_movies)))"
      ],
      "execution_count": 26,
      "outputs": [
        {
          "output_type": "stream",
          "text": [
            "Recommended movies for you:\n",
            "('Despicable Me (2010)', 4.887035224020957, 16)\n",
            "('\"Girl', 4.848748098906941, 20)\n",
            "('Stardust (2007)', 4.700040856731036, 23)\n",
            "('The Martian (2015)', 4.677594891349678, 25)\n",
            "('Ant-Man (2015)', 4.623240453201322, 17)\n",
            "('Red (2010)', 4.563298171853312, 18)\n",
            "('\"Amazing Spider-Man', 4.55524812413573, 20)\n",
            "('How to Train Your Dragon (2010)', 4.487703458305262, 33)\n",
            "('Pay It Forward (2000)', 4.457568450130303, 23)\n",
            "('\"Lord of the Rings: The Return of the King', 4.454542569830214, 176)\n",
            "('\"Shawshank Redemption', 4.4502876094974635, 311)\n",
            "('\"Avengers', 4.433616440885272, 46)\n",
            "('Star Trek: First Contact (1996)', 4.4278923143818645, 82)\n",
            "('\"Lord of the Rings: The Two Towers', 4.409318166792802, 188)\n",
            "('Excalibur (1981)', 4.396798019913279, 16)\n"
          ],
          "name": "stdout"
        }
      ]
    }
  ]
}